{
 "cells": [
  {
   "cell_type": "markdown",
   "id": "5bedba07",
   "metadata": {},
   "source": [
    "##### https://www.analyticsvidhya.com/blog/2022/04/building-vehicle-counter-system-using-opencv/\n",
    "\n",
    "Object tracking with Centroid Tracking Algorithm"
   ]
  },
  {
   "cell_type": "code",
   "execution_count": 23,
   "id": "d44a4c6b",
   "metadata": {},
   "outputs": [],
   "source": [
    "import cv2\n",
    "import numpy as np\n",
    "\n",
    "tracker = EuclideanDistTracker()\n",
    "cap = cv2.VideoCapture('../images/roads-1952.mp4')\n",
    "_, frame1 = cap.read()\n",
    "_, frame2 = cap.read()\n",
    "\n",
    "while cap.isOpened():\n",
    "    diff = cv2.absdiff(frame1, frame2)\n",
    "    gray = cv2.cvtColor(diff, cv2.COLOR_BGR2GRAY)\n",
    "    blur = cv2.GaussianBlur(gray, (5,5), 0)\n",
    "    height, width = blur.shape\n",
    "    _, threshold = cv2.threshold(blur, 23, 255, cv2.THRESH_BINARY)\n",
    "    dilated = cv2.dilate(threshold, (1,1), iterations=1)\n",
    "    contours,_, = cv2.findContours(dilated, cv2.RETR_TREE, cv2.CHAIN_APPROX_SIMPLE)\n",
    "    detections = []\n",
    "    for contour in contours:\n",
    "        (x,y,w,h) = cv2.boundingRect(contour)\n",
    "        #if cv2.contourArea(contour) >= 300:\n",
    "        #    cv2.rectangle(diff, (x,y), (x+w,y+h), (0,255,255), 3)\n",
    "        if cv2.contourArea(contour) <300:\n",
    "                continue\n",
    "        detections.append([x,y,w,h])\n",
    "    boxes_ids = tracker.update(detections)\n",
    "    for box_ids in boxes_ids:\n",
    "        x,y,w,h,id = box_ids\n",
    "        cv2.putText(frame1, str(id), (x,y-15), cv2.FONT_HERSHEY_SIMPLEX, 0.8, (0,0,255), 2)\n",
    "        cv2.rectangle(frame1, (x,y), (x+w, y+h), (0,255,0), 2)\n",
    "        cv2.imshow('frame',frame1)\n",
    "\n",
    "    frame1 = frame2\n",
    "    ret,frame2 = cap.read()\n",
    "    key = cv2.waitKey(30)\n",
    "    if key == ord('q'):\n",
    "        break\n",
    "\n",
    "cv2.destroyAllWindows()"
   ]
  },
  {
   "cell_type": "code",
   "execution_count": 22,
   "id": "538c6045",
   "metadata": {},
   "outputs": [],
   "source": [
    "import math\n",
    "\n",
    "class EuclideanDistTracker:\n",
    "    def __init__(self):\n",
    "        self.center_points = {}\n",
    "        self.id_count = 0\n",
    "        \n",
    "    def update(self,objects_rect):\n",
    "        objects_bbs_ids = []\n",
    "        for rect in objects_rect:\n",
    "            x, y, w, h = rect\n",
    "            center_x = (x+x+w)//2\n",
    "            center_y = (y + y + h) // 2\n",
    "            same_object_detected = False\n",
    "            for id, pt in self.center_points.items():\n",
    "                dist = math.hypot(center_x - pt[0], center_y - pt[1])\n",
    "                if dist < 25:\n",
    "                    self.center_points[id] = (center_x, center_y)\n",
    "                    objects_bbs_ids.append([x, y, w, h, id])\n",
    "                    same_object_detected = True\n",
    "                    break\n",
    "            if same_object_detected is False:\n",
    "                self.center_points[self.id_count] = (center_x, center_y)\n",
    "                objects_bbs_ids.append([x, y, w, h, self.id_count])\n",
    "                self.id_count += 1\n",
    "        new_center_points = {}    \n",
    "        for obj_bb_id in objects_bbs_ids:\n",
    "            var,var,var,var, object_id = obj_bb_id\n",
    "            center = self.center_points[object_id]\n",
    "            new_center_points[object_id] = center\n",
    "        self.center_points = new_center_points.copy()\n",
    "        return objects_bbs_ids"
   ]
  }
 ],
 "metadata": {
  "kernelspec": {
   "display_name": "Python 3 (ipykernel)",
   "language": "python",
   "name": "python3"
  },
  "language_info": {
   "codemirror_mode": {
    "name": "ipython",
    "version": 3
   },
   "file_extension": ".py",
   "mimetype": "text/x-python",
   "name": "python",
   "nbconvert_exporter": "python",
   "pygments_lexer": "ipython3",
   "version": "3.10.4"
  }
 },
 "nbformat": 4,
 "nbformat_minor": 5
}
