{
 "cells": [
  {
   "cell_type": "code",
   "execution_count": 1,
   "metadata": {},
   "outputs": [
    {
     "name": "stdout",
     "output_type": "stream",
     "text": [
      "2.0.1\n"
     ]
    }
   ],
   "source": [
    "import torch\n",
    "\n",
    "import torchvision\n",
    "import torchvision.transforms as transforms\n",
    "\n",
    "import torch.optim as optim\n",
    "import torch.nn as nn\n",
    "import torch.nn.functional as F\n",
    "\n",
    "if torch.cuda.is_available():\n",
    "    device = 'cuda'\n",
    "else:\n",
    "    device = 'cpu'\n",
    "\n",
    "print(torch.__version__)"
   ]
  },
  {
   "cell_type": "code",
   "execution_count": 4,
   "metadata": {},
   "outputs": [
    {
     "name": "stdout",
     "output_type": "stream",
     "text": [
      "1.25.2\n"
     ]
    }
   ],
   "source": [
    "import cv2\n",
    "import numpy as np\n",
    "from matplotlib import pyplot as plt\n",
    "\n",
    "print(np.__version__)\n",
    "\n",
    "def imgshow(title, image = None, size =6):\n",
    "    w,h = image.shape[0], image.shape[1]\n",
    "    aspect_ratio = w/h\n",
    "    plt.figure(figsize=(size*aspect_ratio, size))\n",
    "    plt.imshow(cv2.cvtColor(image, cv2.COLOR_BGR2RGB))\n",
    "    plt.title(title)\n",
    "    plt.show()"
   ]
  },
  {
   "cell_type": "code",
   "execution_count": 5,
   "metadata": {},
   "outputs": [],
   "source": [
    "# Transformers are needed to cast the image data into the required format for input into our model\n",
    "# Convert to tensors and normalize\n",
    "transform = transforms.Compose([transforms.ToTensor(),\n",
    "                                transforms.Normalize((0.5,),(0.5,))])"
   ]
  },
  {
   "cell_type": "code",
   "execution_count": 6,
   "metadata": {},
   "outputs": [],
   "source": [
    "# Fetch MNIST dataset using torchvision for training and test\n",
    "trainset = torchvision.datasets.MNIST('mnist',\n",
    "                                      train = True, \n",
    "                                      download = True,\n",
    "                                      transform = transform)\n",
    "testset = torchvision.datasets.MNIST('mnist',\n",
    "                                     train=False,\n",
    "                                     download=True,\n",
    "                                     transform = transform)"
   ]
  },
  {
   "cell_type": "code",
   "execution_count": 7,
   "metadata": {},
   "outputs": [
    {
     "name": "stdout",
     "output_type": "stream",
     "text": [
      "torch.Size([60000, 28, 28])\n",
      "torch.Size([10000, 28, 28])\n"
     ]
    }
   ],
   "source": [
    "print(trainset.data.shape)\n",
    "print(testset.data.shape)"
   ]
  },
  {
   "cell_type": "code",
   "execution_count": 22,
   "metadata": {},
   "outputs": [
    {
     "name": "stdout",
     "output_type": "stream",
     "text": [
      "Requirement already satisfied: numpy in c:\\users\\indtal\\anaconda3\\lib\\site-packages (1.23.1)\n",
      "Collecting numpy\n",
      "  Downloading numpy-1.25.1-cp39-cp39-win_amd64.whl (15.1 MB)\n",
      "     -------------------------------------- 15.1/15.1 MB 570.2 kB/s eta 0:00:00\n",
      "Installing collected packages: numpy\n",
      "  Attempting uninstall: numpy\n",
      "    Found existing installation: numpy 1.23.1\n",
      "    Uninstalling numpy-1.23.1:\n",
      "      Successfully uninstalled numpy-1.23.1\n",
      "Successfully installed numpy-1.25.1\n"
     ]
    },
    {
     "name": "stderr",
     "output_type": "stream",
     "text": [
      "ERROR: pip's dependency resolver does not currently take into account all the packages that are installed. This behaviour is the source of the following dependency conflicts.\n",
      "daal4py 2021.3.0 requires daal==2021.2.3, which is not installed.\n",
      "scipy 1.7.1 requires numpy<1.23.0,>=1.16.5, but you have numpy 1.25.1 which is incompatible.\n"
     ]
    }
   ],
   "source": [
    "!pip install numpy --upgrade"
   ]
  },
  {
   "cell_type": "code",
   "execution_count": 8,
   "metadata": {},
   "outputs": [
    {
     "data": {
      "image/png": "[encoded data removed]",
      "text/plain": [
       "<Figure size 600x600 with 1 Axes>"
      ]
     },
     "metadata": {},
     "output_type": "display_data"
    }
   ],
   "source": [
    "# to plot the image in opencv, we need to convert the image to numpy array\n",
    "image = trainset.data[0].numpy()\n",
    "imgshow(\"mnist\",image)"
   ]
  },
  {
   "cell_type": "code",
   "execution_count": 9,
   "metadata": {},
   "outputs": [],
   "source": [
    "# A dataloader is a function that we will use to grab our data in specified batch sizes (we'l use 128) during training\n",
    "# Prepare train and test loader\n",
    "\n",
    "trainloader = torch.utils.data.DataLoader(trainset,\n",
    "                                          batch_size = 128,\n",
    "                                          shuffle = True,\n",
    "                                          num_workers = 0)\n",
    "testloader = torch.utils.data.DataLoader(testset,\n",
    "                                         batch_size = 128,\n",
    "                                         shuffle = False,\n",
    "                                         num_workers = 0)"
   ]
  },
  {
   "cell_type": "code",
   "execution_count": 11,
   "metadata": {},
   "outputs": [],
   "source": [
    "# Using Iter and Next() for load batches\n",
    "dataiter = iter(trainloader)\n",
    "\n",
    "labels = next(dataiter)\n",
    "\n",
    "#print(images.shape)\n",
    "#print(labels.shape)"
   ]
  },
  {
   "attachments": {},
   "cell_type": "markdown",
   "metadata": {},
   "source": [
    "Building a Convolution Model"
   ]
  },
  {
   "cell_type": "code",
   "execution_count": 12,
   "metadata": {},
   "outputs": [
    {
     "data": {
      "text/plain": [
       "Net(\n",
       "  (conv1): Conv2d(1, 32, kernel_size=(3, 3), stride=(1, 1))\n",
       "  (conv2): Conv2d(32, 64, kernel_size=(3, 3), stride=(1, 1))\n",
       "  (pool): MaxPool2d(kernel_size=2, stride=2, padding=0, dilation=1, ceil_mode=False)\n",
       "  (fc1): Linear(in_features=9216, out_features=128, bias=True)\n",
       "  (fc2): Linear(in_features=128, out_features=10, bias=True)\n",
       ")"
      ]
     },
     "execution_count": 12,
     "metadata": {},
     "output_type": "execute_result"
    }
   ],
   "source": [
    "import torch.nn as nn\n",
    "import torch.nn.functional as F\n",
    "\n",
    "#Create model using a Python class\n",
    "class Net(nn.Module):\n",
    "    def __init__(self):\n",
    "        super(Net, self).__init__()\n",
    "        self.conv1 = nn.Conv2d(1,32,3)\n",
    "        self.conv2 = nn.Conv2d(32, 64, 3)\n",
    "        self.pool = nn.MaxPool2d(2,2)\n",
    "        self.fc1 = nn.Linear(64 * 12 * 12, 128)\n",
    "        self.fc2 = nn.Linear(128, 10)\n",
    "\n",
    "    def forward(self,x):\n",
    "        x = F.relu(self.conv1(x))\n",
    "        x = self.pool(F.relu(self.conv2(x)))\n",
    "        x = x.view(-1, 64*12*12)\n",
    "        x = F.relu(self.fc1(x))\n",
    "        x = self.fc2(x)\n",
    "        return x\n",
    "# create an instance of the model and move memory and operations to CUDA device\n",
    "net = Net()\n",
    "net.to(device)"
   ]
  },
  {
   "cell_type": "code",
   "execution_count": 13,
   "metadata": {},
   "outputs": [
    {
     "name": "stdout",
     "output_type": "stream",
     "text": [
      "Net(\n",
      "  (conv1): Conv2d(1, 32, kernel_size=(3, 3), stride=(1, 1))\n",
      "  (conv2): Conv2d(32, 64, kernel_size=(3, 3), stride=(1, 1))\n",
      "  (pool): MaxPool2d(kernel_size=2, stride=2, padding=0, dilation=1, ceil_mode=False)\n",
      "  (fc1): Linear(in_features=9216, out_features=128, bias=True)\n",
      "  (fc2): Linear(in_features=128, out_features=10, bias=True)\n",
      ")\n"
     ]
    }
   ],
   "source": [
    "print(net)"
   ]
  },
  {
   "cell_type": "code",
   "execution_count": 14,
   "metadata": {},
   "outputs": [],
   "source": [
    "# defining a loss function and an optimizer\n",
    "\n",
    "import torch.optim as optim\n",
    "# using cross entropy as the loss function\n",
    "criterion = nn.CrossEntropyLoss()\n",
    "\n",
    "optimizer = optim.SGD(net.parameters(), lr=0.001, momentum = 0.9)"
   ]
  },
  {
   "cell_type": "code",
   "execution_count": 20,
   "metadata": {},
   "outputs": [
    {
     "name": "stdout",
     "output_type": "stream",
     "text": [
      "Starting Epoch: 1...\n"
     ]
    },
    {
     "ename": "ValueError",
     "evalue": "setting an array element with a sequence. The requested array has an inhomogeneous shape after 2 dimensions. The detected shape was (2, 128) + inhomogeneous part.",
     "output_type": "error",
     "traceback": [
      "\u001b[1;31m---------------------------------------------------------------------------\u001b[0m",
      "\u001b[1;31mValueError\u001b[0m                                Traceback (most recent call last)",
      "Cell \u001b[1;32mIn[20], line 19\u001b[0m\n\u001b[0;32m     17\u001b[0m \u001b[39m# Move our data to GPU\u001b[39;00m\n\u001b[0;32m     18\u001b[0m inputs \u001b[39m=\u001b[39m inputs\u001b[39m.\u001b[39mto(device)\n\u001b[1;32m---> 19\u001b[0m labels \u001b[39m=\u001b[39m np\u001b[39m.\u001b[39masarray(labels)\n\u001b[0;32m     20\u001b[0m labels \u001b[39m=\u001b[39m torch\u001b[39m.\u001b[39mfrom_numpy(labels\u001b[39m.\u001b[39mastype(\u001b[39m'\u001b[39m\u001b[39mlong\u001b[39m\u001b[39m'\u001b[39m))\n\u001b[0;32m     21\u001b[0m labels \u001b[39m=\u001b[39m labels\u001b[39m.\u001b[39mto(device)\n",
      "\u001b[1;31mValueError\u001b[0m: setting an array element with a sequence. The requested array has an inhomogeneous shape after 2 dimensions. The detected shape was (2, 128) + inhomogeneous part."
     ]
    }
   ],
   "source": [
    "epochs = 10\n",
    "#create some empty arrays to store\n",
    "epoch_log = []\n",
    "loss_log = []\n",
    "accuracy_log = []\n",
    "\n",
    "# Iterate for a specified number of epochs\n",
    "for epoch in range(epochs):\n",
    "    print(f'Starting Epoch: {epoch+1}...')\n",
    "\n",
    "    running_loss = 0.0\n",
    "\n",
    "    #We iterate through our trainloader iterator\n",
    "    # each cycle is a mini batch\n",
    "    for i, data in enumerate(trainloader, 0):\n",
    "        inputs, data = data\n",
    "        # Move our data to GPU\n",
    "        inputs = inputs.to(device)\n",
    "        labels = np.asarray(labels)\n",
    "        labels = torch.from_numpy(labels.astype('long'))\n",
    "        labels = labels.to(device)\n",
    "        # clear the gradients before training starts\n",
    "        optimizer.zero_grad()\n",
    "        #Forward -> backprop + optimize\n",
    "        outputs = net(inputs) #Forward Propagation \n",
    "        loss = criterion(outputs, labels) # Get Loss (quantify the difference between the results and predictions)\n",
    "        loss.backward() # Back propagate to obtain the new gradients for all nodes\n",
    "        optimizer.step() # Update the gradients/weights\n",
    "\n",
    "        # Print training stats - Epochs/Iterations/Loss/Accuracy\n",
    "        running_loss += loss.item()\n",
    "        if i % 50 == 49: # show loss after 50 iterations\n",
    "            correct = 0\n",
    "            total = 0\n",
    "            # torch.no_grad() disables backpropagation and gradient calcualtion which we dont need during test\n",
    "            with torch.no_grad():\n",
    "                for data in testloader:\n",
    "                    images, labels = data\n",
    "                    # Move our data to GPU\n",
    "                    images = images.to(device)\n",
    "                    labels = np.asarray(labels)\n",
    "                    labels = torch.from_numpy(labels.astype('long'))\n",
    "                    labels = labels.to(device)\n",
    "                    outputs = net(images)\n",
    "                    # Get predictions from the maximum value of the predicted output tensor\n",
    "                     # we set dim = 1 as it specifies the number of dimensions to reduce\n",
    "                    _, predicted = torch.max(outputs.data, dim =1)\n",
    "                    total += labels.size(0)\n",
    "                    # Keep a running total of the number of predictions predicted correctly\n",
    "                    correct += (predicted == labels).sum().item()\n",
    "                accuracy = 100 * correct / total\n",
    "                epoch_num = epoch + 1\n",
    "                actual_loss = running_loss / 50\n",
    "                print(f'Epoch: {epoch_num}, Mini-Batches Completed: {(i+1)}, Loss: {actual_loss:.3f}, Test Accuracy = {accuracy:.3f}%')\n",
    "                running_loss = 0.0\n",
    "\n",
    "    # Store training stats after each epoch\n",
    "    epoch_log.append(epoch_num)\n",
    "    loss_log.append(actual_loss)\n",
    "    accuracy_log.append(accuracy)\n",
    "\n",
    "print(\"finished training\")\n",
    "\n",
    "\n"
   ]
  },
  {
   "cell_type": "code",
   "execution_count": null,
   "metadata": {},
   "outputs": [],
   "source": [
    "# Saving our model\n",
    "torch.save(net.state_dict(), \".\")"
   ]
  }
 ],
 "metadata": {
  "kernelspec": {
   "display_name": "deepLearning",
   "language": "python",
   "name": "python3"
  },
  "language_info": {
   "codemirror_mode": {
    "name": "ipython",
    "version": 3
   },
   "file_extension": ".py",
   "mimetype": "text/x-python",
   "name": "python",
   "nbconvert_exporter": "python",
   "pygments_lexer": "ipython3",
   "version": "3.11.4"
  },
  "orig_nbformat": 4
 },
 "nbformat": 4,
 "nbformat_minor": 2
}
